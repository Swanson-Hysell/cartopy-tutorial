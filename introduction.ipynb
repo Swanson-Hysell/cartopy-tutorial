{
 "cells": [
  {
   "cell_type": "markdown",
   "metadata": {
    "slideshow": {
     "slide_type": "slide"
    }
   },
   "source": [
    "# Cartopy tutorial - Around the world in 80 ways\n",
    "### SciPy conference 2018\n",
    "#### Phileas Elson & Bill \"Passepartout\" Little"
   ]
  },
  {
   "cell_type": "markdown",
   "metadata": {
    "slideshow": {
     "slide_type": "subslide"
    }
   },
   "source": [
    "## Objective\n",
    "By the end of the tutorial we want to have given you:\n",
    " * Background on geospatial terms and concepts\n",
    " * Hands-on experience of using cartopy & friends\n",
    " * A sense of what Cartopy *is* and *is not*."
   ]
  },
  {
   "cell_type": "markdown",
   "metadata": {
    "slideshow": {
     "slide_type": "subslide"
    }
   },
   "source": [
    "## Supporting material\n",
    "\n",
    "* Repository: [github.com/scitools/cartopy-tutorial](https://github.com/scitools/cartopy-tutorial)\n",
    "* [Hand-outs](https://github.com/SciTools/cartopy-tutorial/raw/master/appendix/handouts/handouts.pdf)\n",
    "* **Conda** requirements: See [requirements.txt](/files/requirements.txt)\n",
    "* Slack channel: [#cartopy](https://scipy2018.slack.com/messages/CBBGAS771) at [scipy2018.slack.com](https://scipy2018.slack.com)\n",
    "* Slides rendered on nbviewer: https://nbviewer.jupyter.org/format/slides/github/SciTools/cartopy-tutorial/blob/master/introduction.ipynb"
   ]
  },
  {
   "cell_type": "markdown",
   "metadata": {
    "slideshow": {
     "slide_type": "slide"
    }
   },
   "source": [
    "## Outline\n",
    "\n",
    "* [Projections, reference systems and other geospatial nomenclature](tutorial/projections_crs_and_terms.ipynb)\n",
    "* [Cartopy and its matplotlib interface](tutorial/cartopy_and_matplotlib.ipynb)\n",
    "* [Geospatial data](tutorial/geospatial_data.ipynb)\n",
    " * [Raster to Raster](tutorial/geospatial/raster_to_raster.ipynb)\n",
    " * [Vector to Vector](tutorial/geospatial/vector_to_vector.ipynb)\n",
    " * [Raster to Vector](tutorial/geospatial/raster_to_vector.ipynb)\n",
    "* [Round-up](tutorial/around_the_world_roundup.ipynb)"
   ]
  }
 ],
 "metadata": {
  "kernelspec": {
   "display_name": "Python 3",
   "language": "python",
   "name": "python3"
  },
  "language_info": {
   "codemirror_mode": {
    "name": "ipython",
    "version": 3
   },
   "file_extension": ".py",
   "mimetype": "text/x-python",
   "name": "python",
   "nbconvert_exporter": "python",
   "pygments_lexer": "ipython3",
   "version": "3.6.7"
  },
  "livereveal": {
   "auto_select": "none",
   "autolaunch": "true",
   "footer": " ",
   "header": "<script src='/files/static/theme/reveal.js'></script>",
   "start_slideshow_at": "selected"
  }
 },
 "nbformat": 4,
 "nbformat_minor": 2
}
